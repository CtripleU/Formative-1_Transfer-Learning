{
  "cells": [
    {
      "cell_type": "code",
      "execution_count": 1,
      "metadata": {
        "id": "4TnU1GcqbyrF"
      },
      "outputs": [],
      "source": [
        "import sys\n",
        "import os\n",
        "\n",
        "sys.path.append('..')\n",
        "\n",
        "from tensorflow.keras.preprocessing.image import ImageDataGenerator\n",
        "from tensorflow.keras.applications import VGG16, ResNet50, InceptionV3\n",
        "from tensorflow.keras.layers import Dense, Flatten\n",
        "from tensorflow.keras.models import Model\n",
        "from tensorflow.keras.optimizers import Adam\n",
        "from tensorflow.keras.callbacks import EarlyStopping\n",
        "from sklearn.metrics import accuracy_score, precision_score, recall_score, f1_score, roc_auc_score, confusion_matrix\n",
        "import matplotlib.pyplot as plt\n",
        "import seaborn as sns"
      ]
    },
    {
      "cell_type": "code",
      "source": [
        "from google.colab import drive\n",
        "drive.mount('/content/drive')"
      ],
      "metadata": {
        "colab": {
          "base_uri": "https://localhost:8080/"
        },
        "id": "SwJja3Ubdz18",
        "outputId": "6b8b9356-afdc-40fb-8df8-0496b71a7679"
      },
      "execution_count": 2,
      "outputs": [
        {
          "output_type": "stream",
          "name": "stdout",
          "text": [
            "Mounted at /content/drive\n"
          ]
        }
      ]
    },
    {
      "cell_type": "markdown",
      "metadata": {
        "id": "UUMLNBvnbyrH"
      },
      "source": [
        "## Data Preparation"
      ]
    },
    {
      "cell_type": "code",
      "execution_count": 7,
      "metadata": {
        "id": "aty9mUezbyrI"
      },
      "outputs": [],
      "source": [
        "# Define paths to the data directories\n",
        "\n",
        "# Get the project root directory\n",
        "ROOT_DIR = \"/content/drive/MyDrive/Colab Notebooks/\"\n",
        "\n",
        "# Declare data directories\n",
        "train_data_dir = os.path.join(ROOT_DIR, 'raw_data/training_set')\n",
        "test_data_dir = os.path.join(ROOT_DIR, 'raw_data/test_set')"
      ]
    },
    {
      "cell_type": "code",
      "execution_count": 8,
      "metadata": {
        "id": "SCZJacSBbyrJ",
        "outputId": "28268285-9671-4791-8d65-671c9dfaee33",
        "colab": {
          "base_uri": "https://localhost:8080/"
        }
      },
      "outputs": [
        {
          "output_type": "stream",
          "name": "stdout",
          "text": [
            "Found 311 images belonging to 2 classes.\n",
            "Found 174 images belonging to 2 classes.\n"
          ]
        }
      ],
      "source": [
        "# Image dimensions\n",
        "img_width, img_height = 224, 224\n",
        "\n",
        "# Data augmentation for training set\n",
        "train_datagen = ImageDataGenerator(\n",
        "    rescale=1./255,\n",
        "    shear_range=0.2,\n",
        "    zoom_range=0.2,\n",
        "    horizontal_flip=True\n",
        ")\n",
        "\n",
        "# Rescaling for test set (no augmentation)\n",
        "test_datagen = ImageDataGenerator(rescale=1./255)\n",
        "\n",
        "# Generate batches of image data with data augmentation\n",
        "train_generator = train_datagen.flow_from_directory(\n",
        "    train_data_dir,\n",
        "    target_size=(img_width, img_height),\n",
        "    batch_size=32,\n",
        "    class_mode='binary'\n",
        ")\n",
        "\n",
        "# Generate batches of image data for testing\n",
        "test_generator = test_datagen.flow_from_directory(\n",
        "    test_data_dir,\n",
        "    target_size=(img_width, img_height),\n",
        "    batch_size=32,\n",
        "    class_mode='binary'\n",
        ")"
      ]
    },
    {
      "cell_type": "markdown",
      "metadata": {
        "id": "ONvMeHMMbyrK"
      },
      "source": [
        "## Model Definition and Fine-Tuning"
      ]
    },
    {
      "cell_type": "code",
      "execution_count": 9,
      "metadata": {
        "id": "LWPEexdYbyrL"
      },
      "outputs": [],
      "source": [
        "def create_fine_tuned_model(base_model):\n",
        "    \"\"\"\n",
        "    Creates a fine-tuned model from a pre-trained base model.\n",
        "    \"\"\"\n",
        "    # Freeze all convolutional layers in the base model\n",
        "    for layer in base_model.layers:\n",
        "        layer.trainable = False\n",
        "\n",
        "    # Flatten the output of the convolutional base\n",
        "    x = base_model.output\n",
        "    x = Flatten()(x)\n",
        "\n",
        "    # Add fully connected layers for classification\n",
        "    x = Dense(128, activation='relu')(x)\n",
        "    predictions = Dense(1, activation='sigmoid')(x) # Binary classification\n",
        "\n",
        "    # Create the final model\n",
        "    model = Model(inputs=base_model.input, outputs=predictions)\n",
        "\n",
        "    # Compile the model\n",
        "    model.compile(optimizer=Adam(lr=0.0001),\n",
        "                  loss='binary_crossentropy',\n",
        "                  metrics=['accuracy'])\n",
        "\n",
        "    return model"
      ]
    },
    {
      "cell_type": "code",
      "execution_count": 10,
      "metadata": {
        "id": "7LrDf3CfbyrM",
        "outputId": "571d39e4-a2a7-488d-acf3-9705d677c150",
        "colab": {
          "base_uri": "https://localhost:8080/"
        }
      },
      "outputs": [
        {
          "output_type": "stream",
          "name": "stdout",
          "text": [
            "Downloading data from https://storage.googleapis.com/tensorflow/keras-applications/vgg16/vgg16_weights_tf_dim_ordering_tf_kernels_notop.h5\n",
            "58889256/58889256 [==============================] - 0s 0us/step\n",
            "Downloading data from https://storage.googleapis.com/tensorflow/keras-applications/resnet/resnet50_weights_tf_dim_ordering_tf_kernels_notop.h5\n",
            "94765736/94765736 [==============================] - 1s 0us/step\n",
            "Downloading data from https://storage.googleapis.com/tensorflow/keras-applications/inception_v3/inception_v3_weights_tf_dim_ordering_tf_kernels_notop.h5\n",
            "87910968/87910968 [==============================] - 0s 0us/step\n"
          ]
        }
      ],
      "source": [
        "# Create instances of pre-trained models\n",
        "vgg_model = VGG16(weights='imagenet', include_top=False, input_shape=(img_width, img_height, 3))\n",
        "resnet_model = ResNet50(weights='imagenet', include_top=False, input_shape=(img_width, img_height, 3))\n",
        "inception_model = InceptionV3(weights='imagenet', include_top=False, input_shape=(img_width, img_height, 3))"
      ]
    },
    {
      "cell_type": "code",
      "execution_count": 11,
      "metadata": {
        "id": "ptRWktQNbyrN",
        "colab": {
          "base_uri": "https://localhost:8080/"
        },
        "outputId": "1ff67914-0a32-4c42-8ced-6ca6b17cc30f"
      },
      "outputs": [
        {
          "output_type": "stream",
          "name": "stderr",
          "text": [
            "WARNING:absl:`lr` is deprecated in Keras optimizer, please use `learning_rate` or use the legacy optimizer, e.g.,tf.keras.optimizers.legacy.Adam.\n",
            "WARNING:absl:`lr` is deprecated in Keras optimizer, please use `learning_rate` or use the legacy optimizer, e.g.,tf.keras.optimizers.legacy.Adam.\n",
            "WARNING:absl:`lr` is deprecated in Keras optimizer, please use `learning_rate` or use the legacy optimizer, e.g.,tf.keras.optimizers.legacy.Adam.\n"
          ]
        }
      ],
      "source": [
        "# Create fine-tuned models\n",
        "vgg_model_ft = create_fine_tuned_model(vgg_model)\n",
        "resnet_model_ft = create_fine_tuned_model(resnet_model)\n",
        "inception_model_ft = create_fine_tuned_model(inception_model)"
      ]
    },
    {
      "cell_type": "markdown",
      "metadata": {
        "id": "GDhynKFRbyrO"
      },
      "source": [
        "## Model Training"
      ]
    },
    {
      "cell_type": "code",
      "execution_count": 12,
      "metadata": {
        "id": "q1eUTy2ibyrO",
        "colab": {
          "base_uri": "https://localhost:8080/"
        },
        "outputId": "254daa60-e2b7-44da-e524-74618e2634cd"
      },
      "outputs": [
        {
          "output_type": "stream",
          "name": "stdout",
          "text": [
            "Epoch 1/10\n",
            "10/10 [==============================] - 350s 36s/step - loss: 1.3047 - accuracy: 0.6045 - val_loss: 0.6246 - val_accuracy: 0.6322\n",
            "Epoch 2/10\n",
            "10/10 [==============================] - 284s 29s/step - loss: 0.6746 - accuracy: 0.6592 - val_loss: 0.6595 - val_accuracy: 0.6034\n",
            "Epoch 3/10\n",
            "10/10 [==============================] - 321s 33s/step - loss: 0.5541 - accuracy: 0.7170 - val_loss: 0.6645 - val_accuracy: 0.5575\n",
            "Epoch 4/10\n",
            "10/10 [==============================] - 278s 29s/step - loss: 0.4145 - accuracy: 0.8167 - val_loss: 0.5365 - val_accuracy: 0.7299\n",
            "Epoch 5/10\n",
            "10/10 [==============================] - 322s 34s/step - loss: 0.3904 - accuracy: 0.8103 - val_loss: 0.5246 - val_accuracy: 0.7759\n",
            "Epoch 6/10\n",
            "10/10 [==============================] - 322s 34s/step - loss: 0.3467 - accuracy: 0.8489 - val_loss: 0.5133 - val_accuracy: 0.7701\n",
            "Epoch 7/10\n",
            "10/10 [==============================] - 277s 29s/step - loss: 0.3203 - accuracy: 0.8810 - val_loss: 0.5168 - val_accuracy: 0.7644\n",
            "Epoch 8/10\n",
            "10/10 [==============================] - 324s 34s/step - loss: 0.3066 - accuracy: 0.8875 - val_loss: 0.5099 - val_accuracy: 0.7586\n",
            "Epoch 9/10\n",
            "10/10 [==============================] - 324s 34s/step - loss: 0.3044 - accuracy: 0.8650 - val_loss: 0.5600 - val_accuracy: 0.7529\n",
            "Epoch 10/10\n",
            "10/10 [==============================] - 324s 33s/step - loss: 0.3229 - accuracy: 0.8714 - val_loss: 0.7347 - val_accuracy: 0.7184\n",
            "Epoch 1/10\n",
            "10/10 [==============================] - 105s 10s/step - loss: 4.2154 - accuracy: 0.5241 - val_loss: 0.6934 - val_accuracy: 0.3218\n",
            "Epoch 2/10\n",
            "10/10 [==============================] - 108s 11s/step - loss: 0.6932 - accuracy: 0.4244 - val_loss: 0.6930 - val_accuracy: 0.6782\n",
            "Epoch 3/10\n",
            "10/10 [==============================] - 109s 11s/step - loss: 0.6928 - accuracy: 0.6270 - val_loss: 0.6920 - val_accuracy: 0.6782\n",
            "Epoch 4/10\n",
            "10/10 [==============================] - 99s 10s/step - loss: 0.6920 - accuracy: 0.6270 - val_loss: 0.6909 - val_accuracy: 0.6782\n",
            "Epoch 5/10\n",
            "10/10 [==============================] - 107s 10s/step - loss: 0.6912 - accuracy: 0.6270 - val_loss: 0.6898 - val_accuracy: 0.6782\n",
            "Epoch 6/10\n",
            "10/10 [==============================] - 102s 10s/step - loss: 0.6904 - accuracy: 0.6270 - val_loss: 0.6886 - val_accuracy: 0.6782\n",
            "Epoch 7/10\n",
            "10/10 [==============================] - 110s 11s/step - loss: 0.6895 - accuracy: 0.6270 - val_loss: 0.6874 - val_accuracy: 0.6782\n",
            "Epoch 8/10\n",
            "10/10 [==============================] - 101s 10s/step - loss: 0.6887 - accuracy: 0.6270 - val_loss: 0.6862 - val_accuracy: 0.6782\n",
            "Epoch 9/10\n",
            "10/10 [==============================] - 107s 11s/step - loss: 0.6878 - accuracy: 0.6270 - val_loss: 0.6850 - val_accuracy: 0.6782\n",
            "Epoch 10/10\n",
            "10/10 [==============================] - 117s 12s/step - loss: 0.6871 - accuracy: 0.6270 - val_loss: 0.6837 - val_accuracy: 0.6782\n",
            "Epoch 1/10\n",
            "10/10 [==============================] - 91s 9s/step - loss: 6.1078 - accuracy: 0.6495 - val_loss: 3.7479 - val_accuracy: 0.7126\n",
            "Epoch 2/10\n",
            "10/10 [==============================] - 62s 6s/step - loss: 1.7564 - accuracy: 0.8328 - val_loss: 5.4965 - val_accuracy: 0.6954\n",
            "Epoch 3/10\n",
            "10/10 [==============================] - 63s 6s/step - loss: 2.2235 - accuracy: 0.7878 - val_loss: 2.4240 - val_accuracy: 0.7644\n",
            "Epoch 4/10\n",
            "10/10 [==============================] - 62s 6s/step - loss: 1.3053 - accuracy: 0.8167 - val_loss: 2.1246 - val_accuracy: 0.7529\n",
            "Epoch 5/10\n",
            "10/10 [==============================] - 65s 7s/step - loss: 0.6724 - accuracy: 0.8842 - val_loss: 2.7449 - val_accuracy: 0.6839\n",
            "Epoch 6/10\n",
            "10/10 [==============================] - 82s 9s/step - loss: 0.3655 - accuracy: 0.9003 - val_loss: 1.5999 - val_accuracy: 0.7471\n",
            "Epoch 7/10\n",
            "10/10 [==============================] - 62s 6s/step - loss: 0.4061 - accuracy: 0.9003 - val_loss: 2.8601 - val_accuracy: 0.7356\n",
            "Epoch 8/10\n",
            "10/10 [==============================] - 62s 7s/step - loss: 0.5451 - accuracy: 0.8746 - val_loss: 1.8032 - val_accuracy: 0.8103\n",
            "Epoch 9/10\n",
            "10/10 [==============================] - 63s 6s/step - loss: 0.5679 - accuracy: 0.9164 - val_loss: 2.4639 - val_accuracy: 0.7299\n"
          ]
        }
      ],
      "source": [
        "# Early stopping to prevent overfitting\n",
        "early_stopping = EarlyStopping(monitor='val_loss', patience=3)\n",
        "\n",
        "# Train the models\n",
        "history_vgg = vgg_model_ft.fit(\n",
        "    train_generator,\n",
        "    epochs=10,  # Adjust as needed\n",
        "    validation_data=test_generator,\n",
        "    callbacks=[early_stopping]\n",
        ")\n",
        "\n",
        "history_resnet = resnet_model_ft.fit(\n",
        "    train_generator,\n",
        "    epochs=10,\n",
        "    validation_data=test_generator,\n",
        "    callbacks=[early_stopping]\n",
        ")\n",
        "\n",
        "history_inception = inception_model_ft.fit(\n",
        "    train_generator,\n",
        "    epochs=10,\n",
        "    validation_data=test_generator,\n",
        "    callbacks=[early_stopping]\n",
        ")"
      ]
    },
    {
      "cell_type": "markdown",
      "metadata": {
        "id": "kekBSP60byrP"
      },
      "source": [
        "## Model Evaluation"
      ]
    },
    {
      "cell_type": "code",
      "execution_count": 13,
      "metadata": {
        "id": "t66BEDhvbyrP",
        "colab": {
          "base_uri": "https://localhost:8080/"
        },
        "outputId": "419489b4-c6eb-4a88-92be-d7eb301169eb"
      },
      "outputs": [
        {
          "output_type": "stream",
          "name": "stdout",
          "text": [
            "6/6 [==============================] - 99s 16s/step\n",
            "6/6 [==============================] - 34s 5s/step\n",
            "6/6 [==============================] - 22s 3s/step\n"
          ]
        }
      ],
      "source": [
        "# Make predictions on the test set\n",
        "vgg_preds = vgg_model_ft.predict(test_generator)\n",
        "resnet_preds = resnet_model_ft.predict(test_generator)\n",
        "inception_preds = inception_model_ft.predict(test_generator)"
      ]
    },
    {
      "cell_type": "code",
      "execution_count": 14,
      "metadata": {
        "id": "KMum60xGbyrP"
      },
      "outputs": [],
      "source": [
        "# Convert probabilities to class labels\n",
        "vgg_preds_classes = (vgg_preds > 0.5).astype(int)\n",
        "resnet_preds_classes = (resnet_preds > 0.5).astype(int)\n",
        "inception_preds_classes = (inception_preds > 0.5).astype(int)\n",
        "\n",
        "# Get true labels from the generator\n",
        "true_labels = test_generator.classes"
      ]
    },
    {
      "cell_type": "markdown",
      "metadata": {
        "id": "FoRPSrUfbyrP"
      },
      "source": [
        "## Performance Metrics"
      ]
    },
    {
      "cell_type": "code",
      "execution_count": 15,
      "metadata": {
        "id": "KCClN1vybyrP"
      },
      "outputs": [],
      "source": [
        "# Create a dictionary to store the results\n",
        "results = {}\n",
        "\n",
        "for model_name, predictions in [('VGG16', vgg_preds_classes),\n",
        "                                 ('ResNet50', resnet_preds_classes),\n",
        "                                 ('InceptionV3', inception_preds_classes)]:\n",
        "\n",
        "    results[model_name] = {\n",
        "        'Accuracy': accuracy_score(true_labels, predictions),\n",
        "        'Loss': history_vgg.history['val_loss'][-1] if model_name == 'VGG16' else \\\n",
        "                history_resnet.history['val_loss'][-1] if model_name == 'ResNet50' else \\\n",
        "                history_inception.history['val_loss'][-1],\n",
        "        'Precision': precision_score(true_labels, predictions),\n",
        "        'Recall': recall_score(true_labels, predictions),\n",
        "        'F1 Score': f1_score(true_labels, predictions),\n",
        "        'AUC': roc_auc_score(true_labels, predictions)\n",
        "    }"
      ]
    },
    {
      "cell_type": "markdown",
      "metadata": {
        "id": "VrSx9NVsbyrP"
      },
      "source": [
        "## Results Visualization"
      ]
    },
    {
      "cell_type": "code",
      "execution_count": 16,
      "metadata": {
        "id": "G_R_dOCjbyrP",
        "colab": {
          "base_uri": "https://localhost:8080/",
          "height": 1000
        },
        "outputId": "972235f6-65f0-42b6-aea5-8aa133a17a17"
      },
      "outputs": [
        {
          "output_type": "stream",
          "name": "stdout",
          "text": [
            "Model Performance:\n",
            "Model           Accuracy   Loss       Precision  Recall     F1 Score   AUC       \n",
            "VGG16           0.6609     0.7347     0.6766     0.9576     0.7930     0.4967    \n",
            "ResNet50        0.6782     0.6837     0.6782     1.0000     0.8082     0.5000    \n",
            "InceptionV3     0.4425     2.4639     0.6235     0.4492     0.5222     0.4389    \n"
          ]
        },
        {
          "output_type": "display_data",
          "data": {
            "text/plain": [
              "<Figure size 600x600 with 1 Axes>"
            ],
            "image/png": "[encoded data removed]"
          },
          "metadata": {}
        },
        {
          "output_type": "display_data",
          "data": {
            "text/plain": [
              "<Figure size 600x600 with 1 Axes>"
            ],
            "image/png": "[encoded data removed]"
          },
          "metadata": {}
        },
        {
          "output_type": "display_data",
          "data": {
            "text/plain": [
              "<Figure size 600x600 with 1 Axes>"
            ],
            "image/png": "[encoded data removed]"
          },
          "metadata": {}
        }
      ],
      "source": [
        "# Print the results table\n",
        "print(\"Model Performance:\")\n",
        "print(\"{:<15} {:<10} {:<10} {:<10} {:<10} {:<10} {:<10}\".format('Model', 'Accuracy', 'Loss', 'Precision', 'Recall', 'F1 Score', 'AUC'))\n",
        "for model_name, metrics in results.items():\n",
        "    print(\"{:<15} {:<10.4f} {:<10.4f} {:<10.4f} {:<10.4f} {:<10.4f} {:<10.4f}\".format(model_name, metrics['Accuracy'], metrics['Loss'], metrics['Precision'], metrics['Recall'], metrics['F1 Score'], metrics['AUC']))\n",
        "\n",
        "# Plot the confusion matrices\n",
        "for model_name, predictions in [('VGG16', vgg_preds_classes),\n",
        "                                 ('ResNet50', resnet_preds_classes),\n",
        "                                 ('InceptionV3', inception_preds_classes)]:\n",
        "    cm = confusion_matrix(true_labels, predictions)\n",
        "    plt.figure(figsize=(6,6))\n",
        "    sns.heatmap(cm, annot=True, fmt='d', cmap='Blues', cbar=False)\n",
        "    plt.title(f'Confusion Matrix - {model_name}')\n",
        "    plt.xlabel('Predicted Label')\n",
        "    plt.ylabel('True Label')\n",
        "    plt.show()"
      ]
    }
  ],
  "metadata": {
    "kernelspec": {
      "display_name": "base",
      "language": "python",
      "name": "python3"
    },
    "language_info": {
      "codemirror_mode": {
        "name": "ipython",
        "version": 3
      },
      "file_extension": ".py",
      "mimetype": "text/x-python",
      "name": "python",
      "nbconvert_exporter": "python",
      "pygments_lexer": "ipython3",
      "version": "3.11.5"
    },
    "colab": {
      "provenance": []
    }
  },
  "nbformat": 4,
  "nbformat_minor": 0
}